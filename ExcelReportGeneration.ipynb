{
  "nbformat": 4,
  "nbformat_minor": 0,
  "metadata": {
    "colab": {
      "name": "Weekly NCCD Email.ipynb",
      "provenance": [],
      "collapsed_sections": [],
      "include_colab_link": true
    },
    "kernelspec": {
      "display_name": "Python 3",
      "name": "python3"
    }
  },
  "cells": [
    {
      "cell_type": "markdown",
      "metadata": {
        "id": "view-in-github",
        "colab_type": "text"
      },
      "source": [
        "<a href=\"https://colab.research.google.com/github/andrewcarr6239/portfolio/blob/gh-pages/ExcelReportGeneration.ipynb\" target=\"_parent\"><img src=\"https://colab.research.google.com/assets/colab-badge.svg\" alt=\"Open In Colab\"/></a>"
      ]
    },
    {
      "cell_type": "code",
      "metadata": {
        "id": "n_93K3ki3nZI"
      },
      "source": [
        "!pip install openpyxl google_spreadsheet google-auth-oauthlib gsheets gspread\n",
        "!pip install — upgrade google-api-python-client google-auth-httplib2 google-auth-oauthlib\n",
        "pd.set_option('display.max_rows', None)\n",
        "pd.set_option('max_colwidth', 400)"
      ],
      "execution_count": null,
      "outputs": []
    },
    {
      "cell_type": "code",
      "metadata": {
        "colab": {
          "base_uri": "https://localhost:8080/"
        },
        "id": "z-_4b4XGa0ii",
        "outputId": "f479c6b7-4569-42c5-861b-0ff1fb63c158"
      },
      "source": [
        "from google.colab import drive\n",
        "drive.mount('/content/drive')"
      ],
      "execution_count": null,
      "outputs": [
        {
          "output_type": "stream",
          "text": [
            "Mounted at /content/drive\n"
          ],
          "name": "stdout"
        }
      ]
    },
    {
      "cell_type": "code",
      "metadata": {
        "id": "QzVhEN0A2UXM"
      },
      "source": [
        "import pandas as pd\n",
        "import os\n",
        "from datetime import date, timedelta, datetime \n",
        "import io\n",
        "import smtplib\n",
        "from email.mime.application import MIMEApplication\n",
        "import email, smtplib, ssl\n",
        "from email import encoders\n",
        "from email.mime.base import MIMEBase\n",
        "from email.mime.multipart import MIMEMultipart\n",
        "from email.mime.text import MIMEText\n",
        "from datetime import datetime\n",
        "from os import path, remove\n",
        "import configparser\n",
        "import pandas as pd\n",
        "import shutil\n",
        "import openpyxl \n",
        "import openpyxl \n",
        "from openpyxl.utils.dataframe import dataframe_to_rows\n",
        "from openpyxl.styles import Alignment\n",
        "from openpyxl.worksheet.table import Table, TableStyleInfo\n",
        "from openpyxl.styles import Font, Fill\n",
        "from openpyxl.styles.colors import Color\n",
        "import numpy as np\n",
        "import datetime\n",
        "from gsheets import Sheets\n",
        "import gspread\n",
        "from oauth2client.client import GoogleCredentials\n",
        "import time"
      ],
      "execution_count": null,
      "outputs": []
    },
    {
      "cell_type": "code",
      "metadata": {
        "id": "pqEmCU7Kyk44"
      },
      "source": [
        "from google.colab import auth\n",
        "auth.authenticate_user()\n",
        "gc = gspread.authorize(GoogleCredentials.get_application_default())"
      ],
      "execution_count": null,
      "outputs": []
    },
    {
      "cell_type": "markdown",
      "metadata": {
        "id": "7mEEV73rxhNN"
      },
      "source": [
        "## Import Sheets from GDrive with Gsheets"
      ]
    },
    {
      "cell_type": "code",
      "metadata": {
        "id": "DZ_kA25e0DRY"
      },
      "source": [
        "def openGsheet(key):\n",
        "  sheet = gc.open_by_key(key)\n",
        "  worksheet = sheet.get_worksheet(0)\n",
        "  dataframe = pd.DataFrame(worksheet.get_all_records())\n",
        "  return dataframe"
      ],
      "execution_count": null,
      "outputs": []
    },
    {
      "cell_type": "markdown",
      "metadata": {
        "id": "2V1KLvJ9X81f"
      },
      "source": [
        "### Import Form output CSV and select previous week"
      ]
    },
    {
      "cell_type": "code",
      "metadata": {
        "id": "iYRp5URq2WEA"
      },
      "source": [
        "def importpdForm(pdDataFrame, subject):\n",
        "  # ImportformCSV which returns pd dataframe with reduced columns relevant to teachers\n",
        "  df = pdDataFrame\n",
        "  \n",
        "\n",
        "  # Select Specific Subject\n",
        "  nan_value = float(\"NaN\")\n",
        "  df.replace(\"\", nan_value, inplace=True)\n",
        "  dropped = df.dropna(subset=[subject, 'Student notes'])\n",
        "  dropped['Timestamp'] = pd.to_datetime(dropped['Timestamp'])\n",
        "  dropped['Student notes'] = dropped['Student Name'] + ': ' + dropped['Student notes']\n",
        "  # dropped = dropped[dropped.Timestamp.between((pd.Timestamp('now') - pd.Timedelta(18, unit='D')),pd.Timestamp('today').floor('D'))]\n",
        "  dropped1 = dropped.loc['2021-5-27':'2021-6-4']\n",
        "  dropped = dropped.set_index('Timestamp') \n",
        "  dropped = dropped.sort_index()\n",
        "\n",
        "  # Select last week only\n",
        "  maths = dropped[['Student notes']]\n",
        "  \n",
        "  # Select only subset of columns\n",
        "\n",
        "  # Return pandas dataframe object\n",
        "  return maths"
      ],
      "execution_count": null,
      "outputs": []
    },
    {
      "cell_type": "markdown",
      "metadata": {
        "id": "a5d2XVyp4DAf"
      },
      "source": [
        "### Convert df to styled excel spreadsheet"
      ]
    },
    {
      "cell_type": "code",
      "metadata": {
        "id": "S80gOj_XjgOs"
      },
      "source": [
        "def stylePandasSavetoxlsx(pddf,saveLocation):\n",
        "  # Convert pandas df to csv with alternating colour excel and \n",
        "    c = Color(indexed=32)\n",
        "    c = Color(theme=6, tint=0.5)\n",
        "\n",
        "    # import Font function from openpyxl \n",
        "    from openpyxl.styles import Font \n",
        "\n",
        "    wb = openpyxl.Workbook() \n",
        "    sheet = wb.active \n",
        "\n",
        "    for r in dataframe_to_rows(pddf, index=True, header=True):\n",
        "        sheet.append(r)\n",
        "\n",
        "    tab = Table(displayName=\"Table1\", ref=\"A1:M100\")\n",
        "\n",
        "    style = TableStyleInfo(name=\"TableStyleMedium6\", showFirstColumn=False,\n",
        "                          showLastColumn=False, showRowStripes=False, showColumnStripes=True)\n",
        "    tab.tableStyleInfo = style\n",
        "\n",
        "    '''\n",
        "    Table must be added using ws.add_table() method to avoid duplicate names.\n",
        "    Using this method ensures table name is unque through out defined names and all other table name. \n",
        "    '''\n",
        "    sheet.add_table(tab)\n",
        "\n",
        "    sheet.title = \"New Title\"\n",
        "\n",
        "    # row = sheet.row_dimensions[1]\n",
        "    # col = ws.column_dimensions['A']\n",
        "\n",
        "    c = sheet['A1']\n",
        "\n",
        "    for row in sheet.iter_rows():\n",
        "        for cell in row:      \n",
        "            cell.alignment =  cell.alignment.copy(wrapText=True)\n",
        "\n",
        "    sheet.sheet_properties.tabColor = \"1072BA\"\n",
        "    sheet.column_dimensions['A'].width = 20\n",
        "    sheet.column_dimensions['B'].width = 140\n",
        "    sheet.column_dimensions['C'].width = 100\n",
        "    sheet.column_dimensions['D'].width = 100\n",
        "    sheet.column_dimensions['E'].width = 25\n",
        "    sheet.column_dimensions['F'].width = 25\n",
        "    sheet.column_dimensions['G'].width = 25\n",
        "    sheet.column_dimensions['I'].width = 40\n",
        "    sheet.column_dimensions['J'].width = 40\n",
        "    sheet.column_dimensions['L'].width = 20\n",
        "    sheet.column_dimensions['H'].width = 30\n",
        "    sheet.column_dimensions['M'].width = 20\n",
        "\n",
        "\n",
        "\n",
        "    c = sheet['C2']\n",
        "    sheet.freeze_panes = c\n",
        "\n",
        "\n",
        "    row = sheet.row_dimensions[2]\n",
        "    row.font = Font(underline=\"single\")\n",
        "    row.font = Font(color=\"FF0000\")\n",
        "\n",
        "\n",
        "    wb.save(saveLocation) \n"
      ],
      "execution_count": null,
      "outputs": []
    },
    {
      "cell_type": "markdown",
      "metadata": {
        "id": "rLWHAf-IDSzq"
      },
      "source": [
        "### Import Year, Subjects and File Location"
      ]
    },
    {
      "cell_type": "code",
      "metadata": {
        "id": "cC9PjayWDapG"
      },
      "source": [
        "# Open nccdAnnotation excel file with location, sheet key etc\n",
        "key = '1c-6OCNvV1pZoMm9HKjJ7_1KF6zp09A-iQkChzTstCVQ'\n",
        "\n",
        "from google.colab import auth\n",
        "auth.authenticate_user()\n",
        "gc = gspread.authorize(GoogleCredentials.get_application_default())\n",
        "\n",
        "yearSubjectFLocation = openGsheet(key)"
      ],
      "execution_count": null,
      "outputs": []
    },
    {
      "cell_type": "code",
      "metadata": {
        "id": "j67bWI8xIvsb"
      },
      "source": [
        "list = []\n",
        "for i in range(len(yearSubjectFLocation)):\n",
        "\n",
        "  # Get todays date and previous weeks date\n",
        "  Previous_Date = str((datetime.datetime.today() - datetime.timedelta(days=18)).date())\n",
        "  Current_Date = str(pd.Timestamp('today').date())\n",
        "\n",
        "  # Define variables for each loop\n",
        "  key = yearSubjectFLocation.iloc[i]['sheetKey'][:-1]\n",
        "  subject = yearSubjectFLocation.iloc[i]['subject'][:-1]\n",
        "  location = yearSubjectFLocation.iloc[i]['location'][1:-1] + Previous_Date + \"_\" + Current_Date + \".xlsx\"\n",
        "  print(location)\n",
        "\n",
        "  # Run \n",
        "  sheet = openGsheet(key)\n",
        "\n",
        "  # Import current sheet and select subject\n",
        "  try:\n",
        "    currentSheet = importpdForm(sheet,subject )\n",
        "  \n",
        "\n",
        "    # Style xlsx and save to location\n",
        "    stylePandasSavetoxlsx(currentSheet,location)\n",
        "\n",
        "  except:\n",
        "    print (\"Subject Selection Failed\")\n",
        "\n",
        "\n",
        "  list.append(location)\n"
      ],
      "execution_count": null,
      "outputs": []
    },
    {
      "cell_type": "markdown",
      "metadata": {
        "id": "5NxsrFYfrFSw"
      },
      "source": [
        "# Create Staff Email Test"
      ]
    },
    {
      "cell_type": "code",
      "metadata": {
        "id": "ICtyJ4GBctF1"
      },
      "source": [
        "def teacherNames():\n",
        "  # create table with teacher names, emails and relvant file end place\n",
        "  subjects = ['Subject [English]', 'Subject [Maths]',\n",
        "        'Subject [Social com]', 'Subject [Art]', 'Subject [Science]',\n",
        "        'Subject [Sport and Rec]']\n",
        "  dfSubTeach = pd.DataFrame(subjects)\n",
        "  dfSubTeach['email'] = ['awalsh@arcadia.qld.edu.au','mgray@arcadia.qld.edu.au','sdunemann@arcadia.qld.edu.au','jstafford@arcadia.qld.edu.au','awalsh@arcadia.qld.edu.au','bhenson@arcadia.qld.edu.au']\n",
        "  # dfSubTeach['fileLocation']=['']\n",
        "  dfSubTeach.columns = ['Teacher','Email']"
      ],
      "execution_count": null,
      "outputs": []
    },
    {
      "cell_type": "code",
      "metadata": {
        "id": "kLrTw_liJTm9"
      },
      "source": [
        "def createStaffEmail():\n",
        "  # Create email to send to teachers\n",
        "  subject = \"An email with attachment from Python\"\n",
        "  body = \"This is an email with attachment sent from Python\"\n",
        "  sender_email = \"acarr@arcadia.qld.edu.au\"\n",
        "  receiver_email = \"andrew.carr.6239@gmail.com\"\n",
        "  password = \"Crown1989!\"\n",
        "  cc = 'acarr@arcadia.qld.edu.au'\n",
        "\n",
        "  # Create a multipart message and set headers\n",
        "  message = MIMEMultipart()\n",
        "  message[\"From\"] = sender_email\n",
        "  message[\"To\"] = receiver_email\n",
        "  message[\"Subject\"] = subject\n",
        "  message[\"CC\"] = cc  # Recommended for mass emails\n",
        "\n",
        "  # Add body to email\n",
        "  message.attach(MIMEText(body, \"plain\"))\n",
        "\n",
        "  filename = \"/content/drive/MyDrive/testCSV.csv\"  # In same directory as script\n",
        "\n",
        "  # Open PDF file in binary mode\n",
        "  with open(filename, \"rb\") as attachment:\n",
        "      # Add file as application/octet-stream\n",
        "      # Email client can usually download this automatically as attachment\n",
        "      part = MIMEBase(\"application\", \"octet-stream\")\n",
        "      part.set_payload(attachment.read())\n",
        "\n",
        "  # Encode file in ASCII characters to send by email    \n",
        "  encoders.encode_base64(part)\n",
        "\n",
        "  # Add header as key/value pair to attachment part\n",
        "  part.add_header(\n",
        "      \"Content-Disposition\",\n",
        "      f\"attachment; filename= {filename}\",\n",
        "  )\n",
        "\n",
        "  # Add attachment to message and convert message to string\n",
        "  message.attach(part)\n",
        "  text = message.as_string()\n",
        "\n",
        "  # Log in to server using secure context and send email\n",
        "  context = ssl.create_default_context()\n",
        "  with smtplib.SMTP_SSL(\"smtp.gmail.com\", 465, context=context) as server:\n",
        "      server.login(sender_email, password)\n",
        "      server.sendmail(sender_email, receiver_email, text)"
      ],
      "execution_count": null,
      "outputs": []
    },
    {
      "cell_type": "code",
      "metadata": {
        "id": "_K_1QI4Ax6ER"
      },
      "source": [
        "list = []\n",
        "\n",
        "# Location of end excel files\n",
        "fileLocation = \"/content/drive/MyDrive/colabDevelopment/\"\n",
        "\n",
        "for i in range(len(yearSubjectFLocation[0:20])):\n",
        "\n",
        "  # Define variables for each loop\n",
        "  key = yearSubjectFLocation.iloc[i]['sheetKey'][:-1]\n",
        "  year = yearSubjectFLocation.iloc[i]['year']\n",
        "  # location = yearSubjectFLocation.iloc[i]['location'][1:-1] + \".xlsx\"\n",
        "\n",
        "  # Run \n",
        "  sheet = openGsheet(key)\n",
        "\n",
        "  # Determine list of subjects\n",
        "  subjectList = [i for i in sheet.columns if \"Subject\" in i]\n",
        "\n",
        "  for i in subjectList:\n",
        "    # Define location\n",
        "    location = fileLocation + str(year) + \"/\"  + str(i) + \".xlsx\"\n",
        "\n",
        "    # Import current sheet and select subject\n",
        "    try:\n",
        "      currentSheet = importpdForm(sheet, i)\n",
        "    \n",
        "\n",
        "      # Style xlsx and save to location\n",
        "      stylePandasSavetoxlsx(currentSheet, location)\n",
        "\n",
        "    except:\n",
        "      print (\"Subject Selection Failed\")\n",
        "\n",
        "    print(location)\n",
        "\n",
        "\n",
        "  # list.append(location)\n",
        "\n",
        "  # time.sleep(9)\n",
        "\n",
        "print(list)"
      ],
      "execution_count": null,
      "outputs": []
    }
  ]
}